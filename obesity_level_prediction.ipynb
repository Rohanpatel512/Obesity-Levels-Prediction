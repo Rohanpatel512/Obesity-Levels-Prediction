{
 "cells": [
  {
   "cell_type": "markdown",
   "id": "a9dec45f-f24a-464c-b4f5-0005c7b076c8",
   "metadata": {},
   "source": [
    "## Data Exploration and Preprocessing"
   ]
  },
  {
   "cell_type": "code",
   "execution_count": 2,
   "id": "d59360c3-2d15-4e80-91d2-6299a33d08e7",
   "metadata": {},
   "outputs": [],
   "source": [
    "# Import Libraries\n",
    "import pandas as pd\n",
    "import numpy as np\n",
    "from sklearn.preprocessing import OneHotEncoder, normalize"
   ]
  },
  {
   "cell_type": "code",
   "execution_count": 3,
   "id": "f16b4a2f-f246-4570-8a52-6b6037cf77b4",
   "metadata": {},
   "outputs": [
    {
     "name": "stdout",
     "output_type": "stream",
     "text": [
      "    Age  Gender  Height  Weight        CALC FAVC  FCVC  NCP  SCC SMOKE  CH2O  \\\n",
      "0  21.0  Female    1.62    64.0          no   no   2.0  3.0   no    no   2.0   \n",
      "1  21.0  Female    1.52    56.0   Sometimes   no   3.0  3.0  yes   yes   3.0   \n",
      "2  23.0    Male    1.80    77.0  Frequently   no   2.0  3.0   no    no   2.0   \n",
      "3  27.0    Male    1.80    87.0  Frequently   no   3.0  3.0   no    no   2.0   \n",
      "4  22.0    Male    1.78    89.8   Sometimes   no   2.0  1.0   no    no   2.0   \n",
      "5  29.0    Male    1.62    53.0   Sometimes  yes   2.0  3.0   no    no   2.0   \n",
      "6  23.0  Female    1.50    55.0   Sometimes  yes   3.0  3.0   no    no   2.0   \n",
      "7  22.0    Male    1.64    53.0   Sometimes   no   2.0  3.0   no    no   2.0   \n",
      "8  24.0    Male    1.78    64.0  Frequently  yes   3.0  3.0   no    no   2.0   \n",
      "9  22.0    Male    1.72    68.0          no  yes   2.0  3.0   no    no   2.0   \n",
      "\n",
      "  family_history_with_overweight  FAF  TUE       CAEC                 MTRANS  \\\n",
      "0                            yes  0.0  1.0  Sometimes  Public_Transportation   \n",
      "1                            yes  3.0  0.0  Sometimes  Public_Transportation   \n",
      "2                            yes  2.0  1.0  Sometimes  Public_Transportation   \n",
      "3                             no  2.0  0.0  Sometimes                Walking   \n",
      "4                             no  0.0  0.0  Sometimes  Public_Transportation   \n",
      "5                             no  0.0  0.0  Sometimes             Automobile   \n",
      "6                            yes  1.0  0.0  Sometimes              Motorbike   \n",
      "7                             no  3.0  0.0  Sometimes  Public_Transportation   \n",
      "8                            yes  1.0  1.0  Sometimes  Public_Transportation   \n",
      "9                            yes  1.0  1.0  Sometimes  Public_Transportation   \n",
      "\n",
      "            NObeyesdad  \n",
      "0        Normal_Weight  \n",
      "1        Normal_Weight  \n",
      "2        Normal_Weight  \n",
      "3   Overweight_Level_I  \n",
      "4  Overweight_Level_II  \n",
      "5        Normal_Weight  \n",
      "6        Normal_Weight  \n",
      "7        Normal_Weight  \n",
      "8        Normal_Weight  \n",
      "9        Normal_Weight  \n"
     ]
    }
   ],
   "source": [
    "# Load the obesity dataset and display first 10 rows\n",
    "dataset = pd.read_csv('obesity_dataset.csv')\n",
    "print(dataset.head(10))"
   ]
  },
  {
   "cell_type": "code",
   "execution_count": 4,
   "id": "db6f4036-7d7c-40f6-aa4c-625fe6079436",
   "metadata": {},
   "outputs": [
    {
     "name": "stdout",
     "output_type": "stream",
     "text": [
      "               Age       Height       Weight         FCVC          NCP  \\\n",
      "count  2111.000000  2111.000000  2111.000000  2111.000000  2111.000000   \n",
      "mean     24.312600     1.701677    86.586058     2.419043     2.685628   \n",
      "std       6.345968     0.093305    26.191172     0.533927     0.778039   \n",
      "min      14.000000     1.450000    39.000000     1.000000     1.000000   \n",
      "25%      19.947192     1.630000    65.473343     2.000000     2.658738   \n",
      "50%      22.777890     1.700499    83.000000     2.385502     3.000000   \n",
      "75%      26.000000     1.768464   107.430682     3.000000     3.000000   \n",
      "max      61.000000     1.980000   173.000000     3.000000     4.000000   \n",
      "\n",
      "              CH2O          FAF          TUE  \n",
      "count  2111.000000  2111.000000  2111.000000  \n",
      "mean      2.008011     1.010298     0.657866  \n",
      "std       0.612953     0.850592     0.608927  \n",
      "min       1.000000     0.000000     0.000000  \n",
      "25%       1.584812     0.124505     0.000000  \n",
      "50%       2.000000     1.000000     0.625350  \n",
      "75%       2.477420     1.666678     1.000000  \n",
      "max       3.000000     3.000000     2.000000  \n"
     ]
    }
   ],
   "source": [
    "# Display the statistical summary of the dataset\n",
    "print(dataset.describe())"
   ]
  },
  {
   "cell_type": "code",
   "execution_count": 5,
   "id": "83b72657-050f-400f-b96e-3a1c2f8ca62a",
   "metadata": {},
   "outputs": [
    {
     "name": "stdout",
     "output_type": "stream",
     "text": [
      "No missing values in the dataset\n"
     ]
    }
   ],
   "source": [
    "# Count the number of missing values\n",
    "missing_values = dataset.isnull().sum()\n",
    "# Report any missing values in the dataset\n",
    "missing_values = np.array(missing_values[missing_values > 0])\n",
    "if len(missing_values) == 0:\n",
    "    print(\"No missing values in the dataset\")\n",
    "else:\n",
    "    print(\"There are missing values in the dataset\")"
   ]
  },
  {
   "cell_type": "code",
   "execution_count": 6,
   "id": "659581ba-5d14-4c00-883e-4bcb7383189b",
   "metadata": {},
   "outputs": [],
   "source": [
    "# Apply one-hot encoding to the categorical descriptive features\n",
    "X = dataset[['Age', 'Gender', 'Height', 'Weight', 'CALC', 'FAVC', 'FCVC', 'NCP',\n",
    "       'SCC', 'SMOKE', 'CH2O', 'family_history_with_overweight', 'FAF', 'TUE',\n",
    "       'CAEC', 'MTRANS']]\n",
    "Y = dataset['NObeyesdad']\n",
    "\n",
    "encoder = OneHotEncoder(sparse_output=False)\n",
    "enc = encoder.fit_transform(X[['Gender', 'family_history_with_overweight', 'FAVC', 'CAEC', 'SMOKE', 'SCC']])\n",
    "df = pd.DataFrame(enc)\n",
    "\n",
    "X = X.drop(['Gender', 'family_history_with_overweight', 'FAVC', 'CAEC', 'SMOKE', 'SCC'], axis=1)\n",
    "df.reset_index(drop=True, inplace=True)\n",
    "X = pd.concat([X, df], axis=1)\n"
   ]
  },
  {
   "cell_type": "code",
   "execution_count": null,
   "id": "13145e3a-288e-46e7-b433-4e500a328c8e",
   "metadata": {},
   "outputs": [],
   "source": []
  }
 ],
 "metadata": {
  "kernelspec": {
   "display_name": "Python 3 (ipykernel)",
   "language": "python",
   "name": "python3"
  },
  "language_info": {
   "codemirror_mode": {
    "name": "ipython",
    "version": 3
   },
   "file_extension": ".py",
   "mimetype": "text/x-python",
   "name": "python",
   "nbconvert_exporter": "python",
   "pygments_lexer": "ipython3",
   "version": "3.12.5"
  }
 },
 "nbformat": 4,
 "nbformat_minor": 5
}
