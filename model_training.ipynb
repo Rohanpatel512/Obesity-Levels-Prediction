{
  "nbformat": 4,
  "nbformat_minor": 0,
  "metadata": {
    "colab": {
      "provenance": []
    },
    "kernelspec": {
      "name": "python3",
      "display_name": "Python 3"
    },
    "language_info": {
      "name": "python"
    }
  },
  "cells": [
    {
      "cell_type": "code",
      "execution_count": null,
      "metadata": {
        "id": "ZmPhsbPqGDks"
      },
      "outputs": [],
      "source": [
        "import pandas as pd\n",
        "from sklearn.model_selection import train_test_split, cross_val_score\n",
        "from sklearn.preprocessing import LabelEncoder, StandardScaler\n",
        "from sklearn.metrics import accuracy_score, classification_report\n",
        "from sklearn.neighbors import KNeighborsClassifier\n",
        "from sklearn.tree import DecisionTreeClassifier\n",
        "from sklearn.linear_model import LogisticRegression\n",
        "from sklearn.naive_bayes import GaussianNB\n",
        "from sklearn.neural_network import MLPClassifier\n",
        "\n",
        "#Load the dataset\n",
        "dataset = pd.read_csv('obesity_dataset.csv')\n",
        "\n",
        "#Preprocessing\n",
        "label_enc = LabelEncoder()\n",
        "categorical_cols = ['Gender', 'CALC', 'FAVC', 'SCC', 'SMOKE',\n",
        "                    'family_history_with_overweight', 'CAEC', 'MTRANS', 'NObeyesdad']\n",
        "for col in categorical_cols:\n",
        "    dataset[col] = label_enc.fit_transform(dataset[col])\n",
        "\n",
        "# Separate features (X) and target variable (y)\n",
        "X = dataset.drop('NObeyesdad', axis=1)\n",
        "y = dataset['NObeyesdad']\n",
        "\n",
        "# Normalize numerical features using StandardScaler\n",
        "scaler = StandardScaler()\n",
        "X_scaled = scaler.fit_transform(X)\n",
        "\n",
        "#Splitting the dataset\n",
        "X_train, X_test, y_train, y_test = train_test_split(X_scaled, y, test_size=0.2, random_state=42, stratify=y)\n",
        "\n",
        "#Initialize the models\n",
        "models = {\n",
        "    'kNN': KNeighborsClassifier(),\n",
        "    'Decision Tree': DecisionTreeClassifier(random_state=42),\n",
        "    'Logistic Regression': LogisticRegression(random_state=42, max_iter=1000),\n",
        "    'Naive Bayes': GaussianNB(),\n",
        "    'Neural Network': MLPClassifier(random_state=42, max_iter=1000)\n",
        "}\n",
        "\n",
        "#Train and validate each model\n",
        "results = {}\n",
        "for model_name, model in models.items():\n",
        "    # Perform 5-fold cross-validation\n",
        "    cv_scores = cross_val_score(model, X_train, y_train, cv=5, scoring='accuracy')\n",
        "\n",
        "    # Train the model on the training data\n",
        "    model.fit(X_train, y_train)\n",
        "\n",
        "    # Make predictions on the test set\n",
        "    y_pred = model.predict(X_test)\n",
        "\n",
        "    # Compute test accuracy\n",
        "    test_accuracy = accuracy_score(y_test, y_pred)\n",
        "\n",
        "    # Store the results\n",
        "    results[model_name] = {\n",
        "        'Cross-Validation Mean Accuracy': cv_scores.mean(),\n",
        "        'Test Accuracy': test_accuracy,\n",
        "        'Classification Report': classification_report(y_test, y_pred, output_dict=True)\n",
        "    }\n",
        "\n",
        "#Display the results in a DataFrame for better readability\n",
        "results_df = pd.DataFrame(results).T\n",
        "\n",
        "#Display the results\n",
        "import ace_tools as tools\n",
        "tools.display_dataframe_to_user(name=\"Model Training and Validation Results\", dataframe=results_df)\n"
      ]
    }
  ]
}